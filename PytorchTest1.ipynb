{
 "cells": [
  {
   "cell_type": "code",
   "execution_count": 16,
   "metadata": {},
   "outputs": [],
   "source": [
    "import torch as T\n",
    "import numpy as np"
   ]
  },
  {
   "cell_type": "markdown",
   "metadata": {},
   "source": [
    "## 创建一个零向量 "
   ]
  },
  {
   "cell_type": "code",
   "execution_count": 2,
   "metadata": {},
   "outputs": [
    {
     "data": {
      "text/plain": [
       "tensor([0., 0., 0., 0., 0.])"
      ]
     },
     "execution_count": 2,
     "metadata": {},
     "output_type": "execute_result"
    }
   ],
   "source": [
    "# 默认float32\n",
    "ze1 = T.zeros(5)\n",
    "ze1"
   ]
  },
  {
   "cell_type": "code",
   "execution_count": 4,
   "metadata": {},
   "outputs": [
    {
     "data": {
      "text/plain": [
       "tensor([0, 0, 0, 0, 0], dtype=torch.int8)"
      ]
     },
     "execution_count": 4,
     "metadata": {},
     "output_type": "execute_result"
    }
   ],
   "source": [
    "# 改变零向量的类型\n",
    "ze2 = T.zeros(5, dtype=T.int8)\n",
    "ze2"
   ]
  },
  {
   "cell_type": "markdown",
   "metadata": {},
   "source": [
    "## 从列表创建向量 "
   ]
  },
  {
   "cell_type": "code",
   "execution_count": 5,
   "metadata": {},
   "outputs": [
    {
     "data": {
      "text/plain": [
       "tensor([1, 2, 3])"
      ]
     },
     "execution_count": 5,
     "metadata": {},
     "output_type": "execute_result"
    }
   ],
   "source": [
    "t1 = T.tensor([1,2,3])\n",
    "t1"
   ]
  },
  {
   "cell_type": "code",
   "execution_count": 6,
   "metadata": {},
   "outputs": [
    {
     "data": {
      "text/plain": [
       "tensor([1., 2., 3.])"
      ]
     },
     "execution_count": 6,
     "metadata": {},
     "output_type": "execute_result"
    }
   ],
   "source": [
    "# 改变向量类型\n",
    "t2 = T.tensor([1,2,3], dtype=T.float32)\n",
    "t2"
   ]
  },
  {
   "cell_type": "markdown",
   "metadata": {},
   "source": [
    "## torch中的range "
   ]
  },
  {
   "cell_type": "code",
   "execution_count": 7,
   "metadata": {},
   "outputs": [
    {
     "name": "stdout",
     "output_type": "stream",
     "text": [
      "tensor([0, 1, 2, 3, 4, 5])\n",
      "tensor([3, 4])\n"
     ]
    }
   ],
   "source": [
    "t3 = T.arange(6)\n",
    "print(t3)\n",
    "t4 = T.arange(3, 5)\n",
    "print(t4)"
   ]
  },
  {
   "cell_type": "markdown",
   "metadata": {},
   "source": [
    "## 判断是否torch中的向量 "
   ]
  },
  {
   "cell_type": "code",
   "execution_count": 9,
   "metadata": {},
   "outputs": [
    {
     "name": "stdout",
     "output_type": "stream",
     "text": [
      "True\n",
      "False\n",
      "True\n"
     ]
    }
   ],
   "source": [
    "print(T.is_tensor(t4))\n",
    "print(T.is_storage(t4))\n",
    "print(T.is_storage(t4.storage()))"
   ]
  },
  {
   "cell_type": "markdown",
   "metadata": {},
   "source": [
    "## 改变torch向量中的类型"
   ]
  },
  {
   "cell_type": "code",
   "execution_count": 11,
   "metadata": {},
   "outputs": [
    {
     "name": "stdout",
     "output_type": "stream",
     "text": [
      "tensor([1.2000, 3.3000, 5.5000, 6.6000, 8.8000])\n",
      "dtype of t5: torch.float32\n",
      "tensor([1, 3, 5, 6, 8], dtype=torch.int32)\n",
      "tensor([1., 3., 5., 6., 8.])\n"
     ]
    }
   ],
   "source": [
    "t5 = T.tensor([1.2, 3.3, 5.5, 6.6, 8.8])\n",
    "print(t5)\n",
    "print(\"dtype of t5: \" + str(t5.dtype))\n",
    "\n",
    "# 报错：dtype  is not writable\n",
    "# t5.dtype = T.int32\n",
    "# print(t5)\n",
    "# print(\"dtype of t5: \" + str(t5.dtype))\n",
    "\n",
    "# .int()方法 .float()方法\n",
    "# 向下取整\n",
    "print(t5.int())\n",
    "print(t5.int().float())"
   ]
  },
  {
   "cell_type": "markdown",
   "metadata": {},
   "source": [
    "## tensor和Tensor的区别 "
   ]
  },
  {
   "cell_type": "code",
   "execution_count": 15,
   "metadata": {},
   "outputs": [
    {
     "name": "stdout",
     "output_type": "stream",
     "text": [
      "tensor([1., 2.])\n",
      "tensor([1., 2., 3.])\n"
     ]
    }
   ],
   "source": [
    "# Tensor是python类，是FloatTensor的别名，传入参数时用类中的__init__函数构造\n",
    "t8 = T.Tensor([1,2])\n",
    "print(t8)\n",
    "t9 = T.Tensor((1,2,3))\n",
    "print(t9)"
   ]
  },
  {
   "cell_type": "code",
   "execution_count": 18,
   "metadata": {},
   "outputs": [
    {
     "name": "stdout",
     "output_type": "stream",
     "text": [
      "tensor([1, 2]) torch.LongTensor\n",
      "tensor([1., 2.]) torch.FloatTensor\n",
      "tensor([1., 2.], dtype=torch.float64) torch.DoubleTensor\n"
     ]
    }
   ],
   "source": [
    "# tensor只是python函数\n",
    "t10 = T.tensor([1,2])\n",
    "print(t10, t10.type())\n",
    "t11 = T.tensor([1., 2.])\n",
    "print(t11, t11.type())\n",
    "t12 = T.tensor([1,2], dtype=T.float64)\n",
    "print(t12, t12.type())"
   ]
  },
  {
   "cell_type": "code",
   "execution_count": 14,
   "metadata": {},
   "outputs": [
    {
     "name": "stdout",
     "output_type": "stream",
     "text": [
      "tensor(3)\n",
      "torch.LongTensor\n",
      "tensor([ 0.0000e+00,  0.0000e+00, -3.5218e+31])\n",
      "torch.FloatTensor\n"
     ]
    }
   ],
   "source": [
    "# 当构造函数传入一个整数...\n",
    "t6 = T.tensor(3)\n",
    "print(t6)\n",
    "print(t6.type())\n",
    "t7 = T.Tensor(3)\n",
    "print(t7)\n",
    "print(t7.type())"
   ]
  },
  {
   "cell_type": "markdown",
   "metadata": {},
   "source": [
    "## 随机化生成 "
   ]
  },
  {
   "cell_type": "code",
   "execution_count": 20,
   "metadata": {},
   "outputs": [
    {
     "name": "stdout",
     "output_type": "stream",
     "text": [
      "tensor([0.3390, 0.6180, 0.3480, 0.1864, 0.2747])\n",
      "tensor([-0.7176, -0.2029,  0.3582, -0.9103, -0.1446])\n",
      "tensor([1.2932, 5.0290])\n",
      "tensor([[5.6318, 2.3881, 6.8796],\n",
      "        [3.7647, 6.7170, 3.8206]])\n"
     ]
    }
   ],
   "source": [
    "# 均匀分布 U(0, 1)\n",
    "t13 = T.rand(5)\n",
    "print(t13)\n",
    "\n",
    "# 标准正态分布 N(0, 1)\n",
    "t14 = T.randn(5)\n",
    "print(t14)\n",
    "\n",
    "# 标准正态分布\n",
    "# TypeError: normal() received an invalid combination of arguments - got (int, int), but expected one of:\n",
    "#  * (Tensor mean, Tensor std, torch.Generator generator, Tensor out)\n",
    "#  * (Tensor mean, float std, torch.Generator generator, Tensor out)\n",
    "#  * (float mean, Tensor std, torch.Generator generator, Tensor out)\n",
    "#  * (float mean, float std, tuple of ints size, torch.Generator generator, Tensor out, torch.dtype dtype, torch.layout layout, torch.device device, bool pin_memory, bool requires_grad)\n",
    "# N(2, 3) size=(2,)\n",
    "t15 = T.normal(2.0, 3.0, (2,))\n",
    "print(t15)\n",
    "# N(4, 5) size=(2, 3)\n",
    "t16 = T.normal(4, 5, (2, 3))\n",
    "print(t16)"
   ]
  },
  {
   "cell_type": "markdown",
   "metadata": {},
   "source": [
    "## 新建空Tensor和全值Tensor "
   ]
  },
  {
   "cell_type": "code",
   "execution_count": 22,
   "metadata": {},
   "outputs": [
    {
     "name": "stdout",
     "output_type": "stream",
     "text": [
      "tensor([[1, 2, 3],\n",
      "        [4, 5, 6]])\n",
      "tensor([[0., 0., 0.],\n",
      "        [0., 0., 0.]])\n",
      "tensor([[3.3709e-06, 6.7407e+22, 1.0442e-08],\n",
      "        [6.4832e-10, 1.0741e-05, 1.7679e-04]])\n",
      "tensor([[3., 3., 3.],\n",
      "        [3., 3., 3.]])\n",
      "tensor([[4, 4, 4],\n",
      "        [4, 4, 4]])\n"
     ]
    }
   ],
   "source": [
    "t17 = T.tensor([[1,2,3], [4,5,6]])\n",
    "print(t17)\n",
    "t18 = T.empty(t17.size())\n",
    "print(t18)\n",
    "t19 = T.empty_like(t18)\n",
    "print(t19)\n",
    "t20 = T.full(t17.size(), 3)\n",
    "print(t20)\n",
    "t21 = T.full_like(t17, 4)\n",
    "print(t21)"
   ]
  },
  {
   "cell_type": "markdown",
   "metadata": {},
   "source": [
    "## Tensor类api "
   ]
  },
  {
   "cell_type": "code",
   "execution_count": 33,
   "metadata": {},
   "outputs": [
    {
     "name": "stdout",
     "output_type": "stream",
     "text": [
      "size:  torch.Size([2, 2, 3])\n",
      "number in the vector:  12\n",
      "unsqueeze at 1:  tensor([[[[ 1],\n",
      "          [ 2],\n",
      "          [ 3]],\n",
      "\n",
      "         [[ 4],\n",
      "          [ 5],\n",
      "          [ 6]]],\n",
      "\n",
      "\n",
      "        [[[ 7],\n",
      "          [ 8],\n",
      "          [ 9]],\n",
      "\n",
      "         [[10],\n",
      "          [11],\n",
      "          [12]]]])\n",
      "T.cat:  tensor([[[ 1,  2,  3,  1,  2,  3],\n",
      "         [ 4,  5,  6,  4,  5,  6]],\n",
      "\n",
      "        [[ 7,  8,  9,  7,  8,  9],\n",
      "         [10, 11, 12, 10, 11, 12]]])\n"
     ]
    }
   ],
   "source": [
    "t19 = T.tensor([[[1,2,3], [4,5,6]], [[7,8,9], [10, 11, 12]]])\n",
    "print(\"size: \", t19.size())\n",
    "print(\"number in the vector: \", T.numel(t19))\n",
    "# print(\"t.view(2,3,1)\", t19.view(1))\n",
    "# 升维\n",
    "print(\"unsqueeze at 1: \", t19.unsqueeze(3))\n",
    "print(\"T.cat: \", T.cat((t19, t19), 2))"
   ]
  },
  {
   "cell_type": "markdown",
   "metadata": {},
   "source": [
    "## 采数据 "
   ]
  },
  {
   "cell_type": "code",
   "execution_count": 49,
   "metadata": {},
   "outputs": [
    {
     "name": "stdout",
     "output_type": "stream",
     "text": [
      "tensor([[-0.7590, -0.0937,  0.6554,  1.8314],\n",
      "        [ 1.2193,  1.8789,  0.8606, -1.6536],\n",
      "        [-0.7149, -0.3994, -0.8282,  0.0470]])\n",
      "tensor([[-0.7590, -0.0937,  0.6554,  1.8314],\n",
      "        [-0.7149, -0.3994, -0.8282,  0.0470]])\n",
      "tensor([[-0.7590,  0.6554],\n",
      "        [ 1.2193,  0.8606],\n",
      "        [-0.7149, -0.8282]])\n",
      "tensor([[-1.3025,  0.4671, -0.6238, -0.6365],\n",
      "        [-0.1552, -0.2093,  0.8949, -0.6457],\n",
      "        [ 1.8273, -2.1901,  0.2340, -0.1876]])\n",
      "tensor([[False, False, False, False],\n",
      "        [False, False,  True, False],\n",
      "        [ True, False, False, False]])\n",
      "tensor([0.8949, 1.8273])\n"
     ]
    }
   ],
   "source": [
    "# T.index_select\n",
    "x = T.randn(3, 4)\n",
    "print(x)\n",
    "indices = T.tensor([0, 2])\n",
    "print(T.index_select(x, 0, indices))\n",
    "print(T.index_select(x, 1, indices))\n",
    "\n",
    "# T.maksed_select\n",
    "x = T.randn(3, 4)\n",
    "print(x)\n",
    "mask = x.ge(0.5)\n",
    "print(mask)\n",
    "print(T.masked_select(x, mask))"
   ]
  },
  {
   "cell_type": "markdown",
   "metadata": {},
   "source": [
    "## 与numpy的对接"
   ]
  },
  {
   "cell_type": "code",
   "execution_count": 42,
   "metadata": {},
   "outputs": [
    {
     "name": "stdout",
     "output_type": "stream",
     "text": [
      "tensor([1, 2, 3], dtype=torch.int32)\n",
      "[1 2 3] <class 'numpy.ndarray'>\n"
     ]
    }
   ],
   "source": [
    "x = np.arange(1,4)\n",
    "t = T.from_numpy(x)\n",
    "print(t)\n",
    "print(t.numpy(), type(t.numpy()))"
   ]
  },
  {
   "cell_type": "markdown",
   "metadata": {},
   "source": [
    "## torch中的linspace和logspace "
   ]
  },
  {
   "cell_type": "code",
   "execution_count": 43,
   "metadata": {},
   "outputs": [
    {
     "name": "stdout",
     "output_type": "stream",
     "text": [
      "tensor([ 2.,  3.,  4.,  5.,  6.,  7.,  8.,  9., 10.])\n",
      "tensor([1.0000e-10, 1.0000e-05, 1.0000e+00, 1.0000e+05, 1.0000e+10])\n"
     ]
    }
   ],
   "source": [
    "print(T.linspace(2, 10, 9))\n",
    "print(T.logspace(-10, 10, 5))"
   ]
  },
  {
   "cell_type": "markdown",
   "metadata": {},
   "source": [
    "## 随机整数排列向量 "
   ]
  },
  {
   "cell_type": "code",
   "execution_count": 44,
   "metadata": {},
   "outputs": [
    {
     "name": "stdout",
     "output_type": "stream",
     "text": [
      "tensor([2, 0, 3, 1, 4, 7, 6, 5])\n"
     ]
    }
   ],
   "source": [
    "print(T.randperm(8))"
   ]
  },
  {
   "cell_type": "markdown",
   "metadata": {},
   "source": [
    "## 分块 "
   ]
  },
  {
   "cell_type": "code",
   "execution_count": 47,
   "metadata": {},
   "outputs": [
    {
     "name": "stdout",
     "output_type": "stream",
     "text": [
      "tensor([[0.9151, 0.7256, 0.4663, 0.0375, 0.5520, 0.0531],\n",
      "        [0.0071, 0.9389, 0.4395, 0.1306, 0.3914, 0.2924],\n",
      "        [0.2637, 0.7947, 0.7601, 0.4212, 0.4125, 0.1038],\n",
      "        [0.4870, 0.1184, 0.8249, 0.0330, 0.2562, 0.7320]])\n",
      "(tensor([[0.9151, 0.7256, 0.4663, 0.0375, 0.5520, 0.0531],\n",
      "        [0.0071, 0.9389, 0.4395, 0.1306, 0.3914, 0.2924]]), tensor([[0.2637, 0.7947, 0.7601, 0.4212, 0.4125, 0.1038],\n",
      "        [0.4870, 0.1184, 0.8249, 0.0330, 0.2562, 0.7320]]))\n",
      "(tensor([[0.9151, 0.7256],\n",
      "        [0.0071, 0.9389],\n",
      "        [0.2637, 0.7947],\n",
      "        [0.4870, 0.1184]]), tensor([[0.4663, 0.0375],\n",
      "        [0.4395, 0.1306],\n",
      "        [0.7601, 0.4212],\n",
      "        [0.8249, 0.0330]]), tensor([[0.5520, 0.0531],\n",
      "        [0.3914, 0.2924],\n",
      "        [0.4125, 0.1038],\n",
      "        [0.2562, 0.7320]]))\n",
      "(tensor([[0.9151, 0.7256, 0.4663, 0.0375, 0.5520, 0.0531],\n",
      "        [0.0071, 0.9389, 0.4395, 0.1306, 0.3914, 0.2924]]), tensor([[0.2637, 0.7947, 0.7601, 0.4212, 0.4125, 0.1038],\n",
      "        [0.4870, 0.1184, 0.8249, 0.0330, 0.2562, 0.7320]]))\n",
      "(tensor([[0.9151, 0.7256, 0.4663],\n",
      "        [0.0071, 0.9389, 0.4395],\n",
      "        [0.2637, 0.7947, 0.7601],\n",
      "        [0.4870, 0.1184, 0.8249]]), tensor([[0.0375, 0.5520, 0.0531],\n",
      "        [0.1306, 0.3914, 0.2924],\n",
      "        [0.4212, 0.4125, 0.1038],\n",
      "        [0.0330, 0.2562, 0.7320]]))\n"
     ]
    }
   ],
   "source": [
    "x = T.rand(4, 6)\n",
    "print(x)\n",
    "# 分成n个chunk\n",
    "print(T.chunk(x, 2, 0))\n",
    "print(T.chunk(x, 3, 1))\n",
    "# 分成每个chunk中有n个向量\n",
    "print(T.split(x, 2, 0))\n",
    "print(T.split(x, 3, 1))"
   ]
  },
  {
   "cell_type": "markdown",
   "metadata": {},
   "source": [
    "## 向量转置 "
   ]
  },
  {
   "cell_type": "code",
   "execution_count": 51,
   "metadata": {},
   "outputs": [
    {
     "name": "stdout",
     "output_type": "stream",
     "text": [
      "tensor([[ 1.9375, -0.8770,  0.6281],\n",
      "        [-0.7785,  0.4650, -0.7276]])\n",
      "tensor([[ 1.9375, -0.7785],\n",
      "        [-0.8770,  0.4650],\n",
      "        [ 0.6281, -0.7276]])\n",
      "tensor([[ 1.9375, -0.7785],\n",
      "        [-0.8770,  0.4650],\n",
      "        [ 0.6281, -0.7276]])\n"
     ]
    }
   ],
   "source": [
    "e = T.randn(2, 3)\n",
    "print(e)\n",
    "print(e.t())\n",
    "print(e.transpose(1, 0))"
   ]
  },
  {
   "cell_type": "markdown",
   "metadata": {},
   "source": [
    "## 向量运算 "
   ]
  },
  {
   "cell_type": "code",
   "execution_count": 53,
   "metadata": {},
   "outputs": [
    {
     "name": "stdout",
     "output_type": "stream",
     "text": [
      "tensor([[ 0.0461,  0.4024, -1.0115],\n",
      "        [ 0.2167, -0.6123,  0.5036]])\n"
     ]
    }
   ],
   "source": [
    "T.manual_seed(1234)\n",
    "x = T.randn(2, 3)\n",
    "print(x)"
   ]
  },
  {
   "cell_type": "code",
   "execution_count": 54,
   "metadata": {},
   "outputs": [
    {
     "name": "stdout",
     "output_type": "stream",
     "text": [
      "tensor([[20.0461, 20.4024, 18.9885],\n",
      "        [20.2167, 19.3877, 20.5036]])\n"
     ]
    }
   ],
   "source": [
    "print(T.add(x, 20))"
   ]
  },
  {
   "cell_type": "code",
   "execution_count": 55,
   "metadata": {},
   "outputs": [
    {
     "name": "stdout",
     "output_type": "stream",
     "text": [
      "tensor([[ 1.,  1., -1.],\n",
      "        [ 1., -0.,  1.]])\n"
     ]
    }
   ],
   "source": [
    "print(T.ceil(x))"
   ]
  },
  {
   "cell_type": "code",
   "execution_count": 56,
   "metadata": {},
   "outputs": [
    {
     "name": "stdout",
     "output_type": "stream",
     "text": [
      "tensor([[ 0.,  0., -2.],\n",
      "        [ 0., -1.,  0.]])\n"
     ]
    }
   ],
   "source": [
    "print(T.floor(x))"
   ]
  },
  {
   "cell_type": "code",
   "execution_count": 57,
   "metadata": {},
   "outputs": [
    {
     "name": "stdout",
     "output_type": "stream",
     "text": [
      "tensor([[1.0472, 1.4954, 0.3637],\n",
      "        [1.2420, 0.5421, 1.6547]])\n"
     ]
    }
   ],
   "source": [
    "print(T.exp(x))"
   ]
  },
  {
   "cell_type": "code",
   "execution_count": 58,
   "metadata": {},
   "outputs": [
    {
     "name": "stdout",
     "output_type": "stream",
     "text": [
      "tensor([[0.5115, 0.5993, 0.2667],\n",
      "        [0.5540, 0.3515, 0.6233]])\n"
     ]
    }
   ],
   "source": [
    "print(T.sigmoid(x))"
   ]
  },
  {
   "cell_type": "code",
   "execution_count": 59,
   "metadata": {},
   "outputs": [
    {
     "name": "stdout",
     "output_type": "stream",
     "text": [
      "tensor([[ 1,  4,  9],\n",
      "        [16, 25, 36]])\n",
      "tensor([[ 1,  4,  9],\n",
      "        [16, 25, 36]])\n",
      "tensor([[22, 28],\n",
      "        [49, 64]])\n"
     ]
    }
   ],
   "source": [
    "a = T.tensor([[1,2,3], [4,5,6]])\n",
    "b = T.tensor([[1,2], [3, 4], [5,6]])\n",
    "print(a * a)\n",
    "print(a.mul(a))\n",
    "print(a.mm(b))"
   ]
  },
  {
   "cell_type": "markdown",
   "metadata": {},
   "source": [
    "## 排序 "
   ]
  },
  {
   "cell_type": "code",
   "execution_count": 61,
   "metadata": {},
   "outputs": [
    {
     "name": "stdout",
     "output_type": "stream",
     "text": [
      "tensor([0, 3, 4, 1, 2, 5])\n",
      "torch.return_types.sort(\n",
      "values=tensor([0, 1, 2, 3, 4, 5]),\n",
      "indices=tensor([0, 3, 4, 1, 2, 5]))\n",
      "tensor([0, 3, 4, 1, 2, 5])\n"
     ]
    }
   ],
   "source": [
    "x = T.randperm(6)\n",
    "print(x)\n",
    "print(T.sort(x))\n",
    "print(x)"
   ]
  },
  {
   "cell_type": "markdown",
   "metadata": {},
   "source": [
    "## View方法 "
   ]
  },
  {
   "cell_type": "code",
   "execution_count": 63,
   "metadata": {},
   "outputs": [
    {
     "name": "stdout",
     "output_type": "stream",
     "text": [
      "torch.Size([4, 4])\n",
      "torch.Size([16])\n",
      "torch.Size([2, 8])\n"
     ]
    }
   ],
   "source": [
    "x = T.randn(4, 4)\n",
    "print(x.size())\n",
    "y = x.view(16)\n",
    "print(y.size())\n",
    "z = x.view(-1, 8)  # the size -1 is inferred from other dimensions\n",
    "print(z.size())"
   ]
  },
  {
   "cell_type": "code",
   "execution_count": 65,
   "metadata": {},
   "outputs": [
    {
     "name": "stdout",
     "output_type": "stream",
     "text": [
      "torch.Size([1, 2, 3, 4])\n",
      "torch.Size([1, 3, 2, 4])\n",
      "torch.Size([1, 3, 2, 4])\n",
      "False\n"
     ]
    }
   ],
   "source": [
    "a = T.randn(1, 2, 3, 4)\n",
    "print(a.size())\n",
    "b = a.transpose(1, 2)  # Swaps 2nd and 3rd dimension\n",
    "print(b.size())\n",
    "c = a.view(1, 3, 2, 4)  # Does not change tensor layout in memory\n",
    "print(c.size())\n",
    "print(T.equal(b, c))"
   ]
  },
  {
   "cell_type": "code",
   "execution_count": 67,
   "metadata": {},
   "outputs": [
    {
     "name": "stdout",
     "output_type": "stream",
     "text": [
      "tensor([[[[-2.1834,  0.3668,  0.7667,  0.0190],\n",
      "          [ 0.0220,  1.1532, -0.3393,  0.1559],\n",
      "          [-1.0248, -0.3781,  0.9257,  0.9247]],\n",
      "\n",
      "         [[ 0.1825, -0.0737,  0.3147, -1.0369],\n",
      "          [ 1.0534,  0.3692,  0.0628, -0.3297],\n",
      "          [-1.7970,  0.8728,  0.7670, -0.1138]]]])\n",
      "tensor([[[[-2.1834,  0.3668,  0.7667,  0.0190],\n",
      "          [ 0.1825, -0.0737,  0.3147, -1.0369]],\n",
      "\n",
      "         [[ 0.0220,  1.1532, -0.3393,  0.1559],\n",
      "          [ 1.0534,  0.3692,  0.0628, -0.3297]],\n",
      "\n",
      "         [[-1.0248, -0.3781,  0.9257,  0.9247],\n",
      "          [-1.7970,  0.8728,  0.7670, -0.1138]]]])\n",
      "tensor([[[[-2.1834,  0.3668,  0.7667,  0.0190],\n",
      "          [ 0.0220,  1.1532, -0.3393,  0.1559]],\n",
      "\n",
      "         [[-1.0248, -0.3781,  0.9257,  0.9247],\n",
      "          [ 0.1825, -0.0737,  0.3147, -1.0369]],\n",
      "\n",
      "         [[ 1.0534,  0.3692,  0.0628, -0.3297],\n",
      "          [-1.7970,  0.8728,  0.7670, -0.1138]]]])\n"
     ]
    }
   ],
   "source": [
    "print(a)\n",
    "print(b)\n",
    "print(c)"
   ]
  },
  {
   "cell_type": "code",
   "execution_count": null,
   "metadata": {},
   "outputs": [],
   "source": []
  }
 ],
 "metadata": {
  "kernelspec": {
   "display_name": "Python 3",
   "language": "python",
   "name": "python3"
  },
  "language_info": {
   "codemirror_mode": {
    "name": "ipython",
    "version": 3
   },
   "file_extension": ".py",
   "mimetype": "text/x-python",
   "name": "python",
   "nbconvert_exporter": "python",
   "pygments_lexer": "ipython3",
   "version": "3.7.3"
  }
 },
 "nbformat": 4,
 "nbformat_minor": 2
}
